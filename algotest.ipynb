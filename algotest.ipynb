{
 "cells": [
  {
   "cell_type": "code",
   "execution_count": 9,
   "metadata": {},
   "outputs": [],
   "source": [
    "import pandas as pd\n",
    "import statsmodels.api as sm\n",
    "from statsmodels.api import Logit"
   ]
  },
  {
   "cell_type": "code",
   "execution_count": 10,
   "metadata": {},
   "outputs": [],
   "source": [
    "df = pd.read_csv(\"bill_data.csv\", sep = \";\")\n",
    "test = pd.read_csv(\"billets_production.csv\")"
   ]
  },
  {
   "cell_type": "code",
   "execution_count": 11,
   "metadata": {},
   "outputs": [
    {
     "name": "stdout",
     "output_type": "stream",
     "text": [
      "<class 'pandas.core.frame.DataFrame'>\n",
      "RangeIndex: 5 entries, 0 to 4\n",
      "Data columns (total 7 columns):\n",
      " #   Column        Non-Null Count  Dtype  \n",
      "---  ------        --------------  -----  \n",
      " 0   diagonal      5 non-null      float64\n",
      " 1   height_left   5 non-null      float64\n",
      " 2   height_right  5 non-null      float64\n",
      " 3   margin_low    5 non-null      float64\n",
      " 4   margin_up     5 non-null      float64\n",
      " 5   length        5 non-null      float64\n",
      " 6   id            5 non-null      object \n",
      "dtypes: float64(6), object(1)\n",
      "memory usage: 412.0+ bytes\n"
     ]
    }
   ],
   "source": [
    "test.info()"
   ]
  },
  {
   "cell_type": "code",
   "execution_count": 12,
   "metadata": {},
   "outputs": [],
   "source": [
    "# Train model\n",
    "y_bill = df.loc[:, df.columns == \"is_genuine\"]\n",
    "\n",
    "X_bill = df[[\"margin_low\", \"margin_up\", \"length\"]]\n",
    "X_bill = sm.add_constant(X_bill)"
   ]
  },
  {
   "cell_type": "code",
   "execution_count": 13,
   "metadata": {},
   "outputs": [
    {
     "name": "stdout",
     "output_type": "stream",
     "text": [
      "Optimization terminated successfully.\n",
      "         Current function value: 0.031729\n",
      "         Iterations 12\n"
     ]
    }
   ],
   "source": [
    "log_reg = Logit(endog = y_bill, exog = X_bill)\n",
    "log_reg_model = log_reg.fit()"
   ]
  },
  {
   "cell_type": "code",
   "execution_count": 14,
   "metadata": {},
   "outputs": [],
   "source": [
    "X_test = test[[\"margin_low\", \"margin_up\", \"length\"]]\n",
    "X_test = sm.add_constant(X_test)"
   ]
  },
  {
   "cell_type": "code",
   "execution_count": 15,
   "metadata": {},
   "outputs": [
    {
     "name": "stdout",
     "output_type": "stream",
     "text": [
      "    id Probabilité d'authenticité  Prédiction\n",
      "0  A_1                       0.0%           0\n",
      "1  A_2                       0.0%           0\n",
      "2  A_3                       0.0%           0\n",
      "3  A_4                     99.91%           1\n",
      "4  A_5                     100.0%           1\n"
     ]
    }
   ],
   "source": [
    "test[\"Probabilité d'authenticité\"] = log_reg_model.predict(X_test)\n",
    "test[\"Probabilité d'authenticité\"] = test[\"Probabilité d'authenticité\"] *100\n",
    "test[\"Probabilité d'authenticité\"] = round(test[\"Probabilité d'authenticité\"],2)\n",
    "test[\"Probabilité d'authenticité\"] = test[\"Probabilité d'authenticité\"].astype(str) + \"%\"\n",
    "test[\"Prédiction\"] = (log_reg_model.predict(X_test) >= 0.5).astype(int)\n",
    "print(test[[\"id\", \"Probabilité d'authenticité\", \"Prédiction\"]])"
   ]
  },
  {
   "cell_type": "code",
   "execution_count": 16,
   "metadata": {},
   "outputs": [
    {
     "name": "stdout",
     "output_type": "stream",
     "text": [
      "Authentification des billets : \n",
      "\n",
      "Le billet A_1 est contrefait\n",
      "Le billet A_2 est contrefait\n",
      "Le billet A_3 est contrefait\n",
      "Le billet A_4 est authentique\n",
      "Le billet A_5 est authentique\n"
     ]
    }
   ],
   "source": [
    "print(\"Authentification des billets : \\n\")\n",
    "for i, j in zip(test[\"Prédiction\"], test[\"id\"]) :\n",
    "    if i == 1 :\n",
    "        print(\"Le billet\", \"{}\".format(j), \"est authentique\")\n",
    "    else :\n",
    "        print(\"Le billet\", \"{}\".format(j), \"est contrefait\")"
   ]
  },
  {
   "cell_type": "code",
   "execution_count": null,
   "metadata": {},
   "outputs": [],
   "source": []
  }
 ],
 "metadata": {
  "kernelspec": {
   "display_name": "envp10",
   "language": "python",
   "name": "python3"
  },
  "language_info": {
   "codemirror_mode": {
    "name": "ipython",
    "version": 3
   },
   "file_extension": ".py",
   "mimetype": "text/x-python",
   "name": "python",
   "nbconvert_exporter": "python",
   "pygments_lexer": "ipython3",
   "version": "3.11.4"
  },
  "orig_nbformat": 4
 },
 "nbformat": 4,
 "nbformat_minor": 2
}
